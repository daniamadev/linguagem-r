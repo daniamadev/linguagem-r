{
  "nbformat": 4,
  "nbformat_minor": 0,
  "metadata": {
    "colab": {
      "provenance": [],
      "authorship_tag": "ABX9TyNJeGIOehj0Zqlg5rD43jQm"
    },
    "kernelspec": {
      "name": "ir",
      "display_name": "R"
    },
    "language_info": {
      "name": "R"
    }
  },
  "cells": [
    {
      "cell_type": "markdown",
      "source": [
        "## Fatores\n",
        "_Factos_ é uma variável categórica, que corresponde a um número limitado de categorias.\n",
        "\n",
        "Uma variável continua correndo a infinitos valores."
      ],
      "metadata": {
        "id": "qBU8JqSfOb5a"
      }
    },
    {
      "cell_type": "code",
      "source": [
        "nomes_vetor <- c(\"Daisy\", \"Pedro\", \"Daniela\", \"Júlia\")\n",
        "familia_fator <- factor(nomes_vetor, order = TRUE, levels = c(\"Daniela\", \"Julia\", \"Daisy\", \"Pedro\"))\n",
        "print(familia_fator)"
      ],
      "metadata": {
        "colab": {
          "base_uri": "https://localhost:8080/"
        },
        "id": "7WFwHswhOPCj",
        "outputId": "b286e151-ffe1-47dc-f27e-82a714459100"
      },
      "execution_count": null,
      "outputs": [
        {
          "output_type": "stream",
          "name": "stdout",
          "text": [
            "[1] Daisy   Pedro   Daniela <NA>   \n",
            "Levels: Daniela < Julia < Daisy < Pedro\n"
          ]
        }
      ]
    },
    {
      "cell_type": "code",
      "source": [
        "survey_vector <- c(\"M\", \"F\", \"F\", \"M\", \"M\")\n",
        "factor_survey_vector <- factor(survey_vector)\n",
        "\n",
        "levels(factor_survey_vector) <- c(\"Female\", \"Male\")\n",
        "\n",
        "print(factor_survey_vector)"
      ],
      "metadata": {
        "colab": {
          "base_uri": "https://localhost:8080/"
        },
        "id": "iOY7yLZVQ2xv",
        "outputId": "dc1ebca1-c7d7-4698-c3ce-95c7828e1392"
      },
      "execution_count": null,
      "outputs": [
        {
          "output_type": "stream",
          "name": "stdout",
          "text": [
            "[1] Male   Female Female Male   Male  \n",
            "Levels: Female Male\n"
          ]
        }
      ]
    },
    {
      "cell_type": "code",
      "source": [
        "# we can count how many data we have in a vector using summary\n",
        "\n",
        "survey_vector <- c(\"M\", \"F\", \"F\", \"M\", \"M\")\n",
        "\n",
        "factor_survey_vector <- factor(survey_vector)\n",
        "\n",
        "levels(factor_survey_vector) <- c(\"Female\", \"Male\")\n",
        "\n",
        "summary(survey_vector)\n",
        "\n",
        "summary(factor_survey_vector)"
      ],
      "metadata": {
        "colab": {
          "base_uri": "https://localhost:8080/",
          "height": 69
        },
        "id": "QGGiI0KtRoEr",
        "outputId": "002f3413-e44e-4cf6-8101-17cf17cfe92f"
      },
      "execution_count": null,
      "outputs": [
        {
          "output_type": "display_data",
          "data": {
            "text/plain": [
              "   Length     Class      Mode \n",
              "        5 character character "
            ]
          },
          "metadata": {}
        },
        {
          "output_type": "display_data",
          "data": {
            "text/html": [
              "<style>\n",
              ".dl-inline {width: auto; margin:0; padding: 0}\n",
              ".dl-inline>dt, .dl-inline>dd {float: none; width: auto; display: inline-block}\n",
              ".dl-inline>dt::after {content: \":\\0020\"; padding-right: .5ex}\n",
              ".dl-inline>dt:not(:first-of-type) {padding-left: .5ex}\n",
              "</style><dl class=dl-inline><dt>Female</dt><dd>2</dd><dt>Male</dt><dd>3</dd></dl>\n"
            ],
            "text/markdown": "Female\n:   2Male\n:   3\n\n",
            "text/latex": "\\begin{description*}\n\\item[Female] 2\n\\item[Male] 3\n\\end{description*}\n",
            "text/plain": [
              "Female   Male \n",
              "     2      3 "
            ]
          },
          "metadata": {}
        }
      ]
    },
    {
      "cell_type": "markdown",
      "source": [
        "Parametros podem ser adicionados na função factor para definir a ordem de importância\n",
        "\n",
        "\n",
        "\n",
        "```\n",
        "factor_speed_vector <- factor(speed_vector,\n",
        "    ordered = TRUE,\n",
        "        levels = c(\"slow\", \"medium\", \"fast\"))\n",
        "```\n",
        "\n"
      ],
      "metadata": {
        "id": "v7m04LzhS4aC"
      }
    },
    {
      "cell_type": "markdown",
      "source": [
        "## Dataframe planeta\n",
        "É uma matriz que suporta vários tipos de dados\n",
        "\n",
        "```\n",
        "     name               type diameter rotation rings\n",
        "1 Mercury Terrestrial planet    0.382    58.64 FALSE\n",
        "2   Venus Terrestrial planet    0.949  -243.02 FALSE\n",
        "3   Earth Terrestrial planet    1.000     1.00 FALSE\n",
        "4    Mars Terrestrial planet    0.532     1.03 FALSE\n",
        "5 Jupiter          Gas giant   11.209     0.41  TRUE\n",
        "6  Saturn          Gas giant    9.449     0.43  TRUE\n",
        "```"
      ],
      "metadata": {
        "id": "M-OrUFvqi83g"
      }
    },
    {
      "cell_type": "code",
      "source": [
        "name <- c(\"Mercury\", \"Venus\", \"Earth\",\n",
        "          \"Mars\", \"Jupiter\", \"Saturn\",\n",
        "          \"Uranus\", \"Neptune\")\n",
        "type <- c(\"Terrestrial planet\",\n",
        "          \"Terrestrial planet\",\n",
        "          \"Terrestrial planet\",\n",
        "          \"Terrestrial planet\", \"Gas giant\",\n",
        "          \"Gas giant\", \"Gas giant\", \"Gas giant\")\n",
        "diameter <- c(0.382, 0.949, 1, 0.532,\n",
        "              11.209, 9.449, 4.007, 3.883)\n",
        "rotation <- c(58.64, -243.02, 1, 1.03,\n",
        "              0.41, 0.43, -0.72, 0.67)\n",
        "rings <- c(FALSE, FALSE, FALSE, FALSE, TRUE, TRUE, TRUE, TRUE)\n",
        "\n",
        "\n",
        "planets_df <- data.frame(name, type, diameter, rotation, rings)\n",
        "print(planets_df)"
      ],
      "metadata": {
        "id": "sDfIk-3Ti_Cg",
        "colab": {
          "base_uri": "https://localhost:8080/"
        },
        "outputId": "0188092d-54c4-450f-b856-c182d379dd6a"
      },
      "execution_count": null,
      "outputs": [
        {
          "output_type": "stream",
          "name": "stdout",
          "text": [
            "     name               type diameter rotation rings\n",
            "1 Mercury Terrestrial planet    0.382    58.64 FALSE\n",
            "2   Venus Terrestrial planet    0.949  -243.02 FALSE\n",
            "3   Earth Terrestrial planet    1.000     1.00 FALSE\n",
            "4    Mars Terrestrial planet    0.532     1.03 FALSE\n",
            "5 Jupiter          Gas giant   11.209     0.41  TRUE\n",
            "6  Saturn          Gas giant    9.449     0.43  TRUE\n",
            "7  Uranus          Gas giant    4.007    -0.72  TRUE\n",
            "8 Neptune          Gas giant    3.883     0.67  TRUE\n"
          ]
        }
      ]
    },
    {
      "cell_type": "code",
      "source": [
        "print(planets_df[1,3]) # linha 1 coluna 3 - linha Mercurio coluna Diametro"
      ],
      "metadata": {
        "colab": {
          "base_uri": "https://localhost:8080/"
        },
        "id": "3e5184Pyela1",
        "outputId": "4dd3350a-fe4f-414e-80ac-3cae370c16c7"
      },
      "execution_count": null,
      "outputs": [
        {
          "output_type": "stream",
          "name": "stdout",
          "text": [
            "[1] 0.382\n"
          ]
        }
      ]
    },
    {
      "cell_type": "code",
      "source": [
        "print(planets_df[4,])"
      ],
      "metadata": {
        "colab": {
          "base_uri": "https://localhost:8080/"
        },
        "id": "0gg2Iud3fRTk",
        "outputId": "6f74586f-53be-42b1-89d8-dc7272900494"
      },
      "execution_count": null,
      "outputs": [
        {
          "output_type": "stream",
          "name": "stdout",
          "text": [
            "  name               type diameter rotation rings\n",
            "4 Mars Terrestrial planet    0.532     1.03 FALSE\n"
          ]
        }
      ]
    },
    {
      "cell_type": "code",
      "source": [
        "print(diameter[1:5]) # seleciona coluna Diametro, da linha 1 (0.382) até a linha 5 (11.209)"
      ],
      "metadata": {
        "colab": {
          "base_uri": "https://localhost:8080/"
        },
        "id": "OsKfrHPbff_E",
        "outputId": "0272ccf9-9bde-4dab-c97b-87fccfdc5685"
      },
      "execution_count": null,
      "outputs": [
        {
          "output_type": "stream",
          "name": "stdout",
          "text": [
            "[1]  0.382  0.949  1.000  0.532 11.209\n"
          ]
        }
      ]
    },
    {
      "cell_type": "markdown",
      "source": [
        "## Dataframe CO2"
      ],
      "metadata": {
        "id": "oDdVyFFUZwF_"
      }
    },
    {
      "cell_type": "code",
      "source": [
        "# construcao de vetores\n",
        "pais <- c(\"Brasil\", \"China\", \"India\", \"Russia\", \"Estados Unidos\")\n",
        "ano <- c(\"2019\", \"2021\", \"2021\", \"2020\", \"2019\")\n",
        "id <- c(\"1\", \"2\", \"3\", \"4\", \"5\")\n",
        "co2 <- c(0.096799,2.45637,1.94876,0.0248176,2.7556)\n",
        "ranking <- c(5,1,3,4,2)\n",
        "setor <- c(\"Energia\", \"Transporte Terrestre\", \"Residencial\", \"Aviação Doméstica\", \"Indústria\")"
      ],
      "metadata": {
        "id": "Ezez6rioZxwB"
      },
      "execution_count": null,
      "outputs": []
    },
    {
      "cell_type": "code",
      "source": [
        "# construcao de data frame\n",
        "co2_df <- data.frame(id, pais, ano, co2, setor, ranking)"
      ],
      "metadata": {
        "id": "XAoEM__KiRHN"
      },
      "execution_count": null,
      "outputs": []
    },
    {
      "cell_type": "code",
      "source": [
        "# exibir primeiras linhas do df\n",
        "head(co2_df)"
      ],
      "metadata": {
        "colab": {
          "base_uri": "https://localhost:8080/",
          "height": 255
        },
        "id": "fKvbHf822EOM",
        "outputId": "99c4d77f-42f4-452e-86d5-ee8ec86925cc"
      },
      "execution_count": null,
      "outputs": [
        {
          "output_type": "display_data",
          "data": {
            "text/html": [
              "<table class=\"dataframe\">\n",
              "<caption>A data.frame: 5 × 6</caption>\n",
              "<thead>\n",
              "\t<tr><th></th><th scope=col>id</th><th scope=col>pais</th><th scope=col>ano</th><th scope=col>co2</th><th scope=col>setor</th><th scope=col>ranking</th></tr>\n",
              "\t<tr><th></th><th scope=col>&lt;chr&gt;</th><th scope=col>&lt;chr&gt;</th><th scope=col>&lt;chr&gt;</th><th scope=col>&lt;dbl&gt;</th><th scope=col>&lt;chr&gt;</th><th scope=col>&lt;dbl&gt;</th></tr>\n",
              "</thead>\n",
              "<tbody>\n",
              "\t<tr><th scope=row>1</th><td>1</td><td>Brasil        </td><td>2019</td><td>0.0967990</td><td>Energia             </td><td>5</td></tr>\n",
              "\t<tr><th scope=row>2</th><td>2</td><td>China         </td><td>2021</td><td>2.4563700</td><td>Transporte Terrestre</td><td>1</td></tr>\n",
              "\t<tr><th scope=row>3</th><td>3</td><td>India         </td><td>2021</td><td>1.9487600</td><td>Residencial         </td><td>3</td></tr>\n",
              "\t<tr><th scope=row>4</th><td>4</td><td>Russia        </td><td>2020</td><td>0.0248176</td><td>Aviação Doméstica   </td><td>4</td></tr>\n",
              "\t<tr><th scope=row>5</th><td>5</td><td>Estados Unidos</td><td>2019</td><td>2.7556000</td><td>Indústria           </td><td>2</td></tr>\n",
              "</tbody>\n",
              "</table>\n"
            ],
            "text/markdown": "\nA data.frame: 5 × 6\n\n| <!--/--> | id &lt;chr&gt; | pais &lt;chr&gt; | ano &lt;chr&gt; | co2 &lt;dbl&gt; | setor &lt;chr&gt; | ranking &lt;dbl&gt; |\n|---|---|---|---|---|---|---|\n| 1 | 1 | Brasil         | 2019 | 0.0967990 | Energia              | 5 |\n| 2 | 2 | China          | 2021 | 2.4563700 | Transporte Terrestre | 1 |\n| 3 | 3 | India          | 2021 | 1.9487600 | Residencial          | 3 |\n| 4 | 4 | Russia         | 2020 | 0.0248176 | Aviação Doméstica    | 4 |\n| 5 | 5 | Estados Unidos | 2019 | 2.7556000 | Indústria            | 2 |\n\n",
            "text/latex": "A data.frame: 5 × 6\n\\begin{tabular}{r|llllll}\n  & id & pais & ano & co2 & setor & ranking\\\\\n  & <chr> & <chr> & <chr> & <dbl> & <chr> & <dbl>\\\\\n\\hline\n\t1 & 1 & Brasil         & 2019 & 0.0967990 & Energia              & 5\\\\\n\t2 & 2 & China          & 2021 & 2.4563700 & Transporte Terrestre & 1\\\\\n\t3 & 3 & India          & 2021 & 1.9487600 & Residencial          & 3\\\\\n\t4 & 4 & Russia         & 2020 & 0.0248176 & Aviação Doméstica    & 4\\\\\n\t5 & 5 & Estados Unidos & 2019 & 2.7556000 & Indústria            & 2\\\\\n\\end{tabular}\n",
            "text/plain": [
              "  id pais           ano  co2       setor                ranking\n",
              "1 1  Brasil         2019 0.0967990 Energia              5      \n",
              "2 2  China          2021 2.4563700 Transporte Terrestre 1      \n",
              "3 3  India          2021 1.9487600 Residencial          3      \n",
              "4 4  Russia         2020 0.0248176 Aviação Doméstica    4      \n",
              "5 5  Estados Unidos 2019 2.7556000 Indústria            2      "
            ]
          },
          "metadata": {}
        }
      ]
    }
  ]
}