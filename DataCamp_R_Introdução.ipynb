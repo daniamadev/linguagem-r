{
  "nbformat": 4,
  "nbformat_minor": 0,
  "metadata": {
    "colab": {
      "provenance": [],
      "authorship_tag": "ABX9TyOQVMcC/G/6KLvS3pVDzdz2"
    },
    "kernelspec": {
      "name": "ir",
      "display_name": "R"
    },
    "language_info": {
      "name": "R"
    }
  },
  "cells": [
    {
      "cell_type": "markdown",
      "source": [
        "## Vetores com Destiny 2"
      ],
      "metadata": {
        "id": "0vfOFhbY8mzh"
      }
    },
    {
      "cell_type": "markdown",
      "source": [
        "### Criar e nomear um *vetor*"
      ],
      "metadata": {
        "id": "X996oCl30pMk"
      }
    },
    {
      "cell_type": "code",
      "source": [
        "classes_char <- c(\"Caçador\", \"Arcano\", \"Titã\")\n",
        "lvl_char <- c(06, 02, 12)\n",
        "names(classes_char) <- lvl_char #cada classe recebe um nível de experiência\n",
        "print(classes_char)"
      ],
      "metadata": {
        "colab": {
          "base_uri": "https://localhost:8080/"
        },
        "id": "dFRwo96azvft",
        "outputId": "4480e11b-564b-418f-d616-cba4dfa8a12f"
      },
      "execution_count": null,
      "outputs": [
        {
          "output_type": "stream",
          "name": "stdout",
          "text": [
            "        6         2        12 \n",
            "\"Caçador\"  \"Arcano\"    \"Titã\" \n"
          ]
        }
      ]
    },
    {
      "cell_type": "markdown",
      "source": [
        "### Comparar vetores"
      ],
      "metadata": {
        "id": "OsAWGI5b3gYN"
      }
    },
    {
      "cell_type": "code",
      "source": [
        "comparacao <- lvl_char > 5\n",
        "lvl_experiente <- classes_char[comparacao]\n",
        "print(lvl_experiente)"
      ],
      "metadata": {
        "colab": {
          "base_uri": "https://localhost:8080/"
        },
        "id": "yC4RFge43jI5",
        "outputId": "7ab7d18a-62d9-4489-8172-3fc25dac4e3c"
      },
      "execution_count": null,
      "outputs": [
        {
          "output_type": "stream",
          "name": "stdout",
          "text": [
            "        6        12 \n",
            "\"Caçador\"    \"Titã\" \n"
          ]
        }
      ]
    },
    {
      "cell_type": "markdown",
      "source": [
        "## Matrizes com Porcupine Tree"
      ],
      "metadata": {
        "id": "4YLMrWDf82xn"
      }
    },
    {
      "cell_type": "code",
      "source": [
        "inabsentia <- c(12, 01.08, 10)\n",
        "deadwing <- c(9, 59, 7.59)\n",
        "blankplanet <- c(6, 51, 8.2)"
      ],
      "metadata": {
        "id": "il11Zhld4_O0"
      },
      "execution_count": null,
      "outputs": []
    },
    {
      "cell_type": "code",
      "source": [
        "discografia <- c(inabsentia, deadwing, blankplanet) #concatenar vetores\n",
        "discografia_matrix <- matrix(discografia, byrow = TRUE, nrow = 3) #discografia transformada em matriz\n",
        "print(discografia_matrix)"
      ],
      "metadata": {
        "colab": {
          "base_uri": "https://localhost:8080/"
        },
        "id": "FgW8Jtd-8pGF",
        "outputId": "ac03ec83-8222-436a-fd9e-b3de2cc878e7"
      },
      "execution_count": null,
      "outputs": [
        {
          "output_type": "stream",
          "name": "stdout",
          "text": [
            "     [,1]  [,2]  [,3]\n",
            "[1,]   12  1.08 10.00\n",
            "[2,]    9 59.00  7.59\n",
            "[3,]    6 51.00  8.20\n"
          ]
        }
      ]
    },
    {
      "cell_type": "code",
      "source": [
        "# Dar nome a colunas e linhas\n",
        "\n",
        "album <- c(\"In Absentia\", \"Dead Wing\", \"Fear of a Blank Planet\")\n",
        "faixas_album <- c(\"Total faixas\", \"Duração total\", \"Ranking\")\n",
        "rownames(discografia_matrix) <- album\n",
        "colnames(discografia_matrix) <- faixas_album\n",
        "print(discografia_matrix)"
      ],
      "metadata": {
        "colab": {
          "base_uri": "https://localhost:8080/"
        },
        "id": "11x3Mkpr-BxC",
        "outputId": "dc3d453c-7933-486c-8d05-37f296784f2a"
      },
      "execution_count": null,
      "outputs": [
        {
          "output_type": "stream",
          "name": "stdout",
          "text": [
            "                       Total faixas Duração total Ranking\n",
            "In Absentia                      12          1.08   10.00\n",
            "Dead Wing                         9         59.00    7.59\n",
            "Fear of a Blank Planet            6         51.00    8.20\n"
          ]
        }
      ]
    },
    {
      "cell_type": "markdown",
      "source": [
        "## Manipulação de matrizes e vetores com nível de escolaridade"
      ],
      "metadata": {
        "id": "wfgIxvsYrEDn"
      }
    },
    {
      "cell_type": "code",
      "source": [
        "bandas <- c(\"Dream Theater\", \"Duran Duran\", \"Depeche Mode\", \"Batushka\", \"Rammstein\") #vetor com dados\n",
        "generos <- c(\"Prog Metal\", \"New Wave\", \"Eletrônico\", \"Black metal\", \"Metal Industrial\") #vetor com metadados\n",
        "names(bandas) <- generos\n",
        "print(bandas)"
      ],
      "metadata": {
        "colab": {
          "base_uri": "https://localhost:8080/"
        },
        "id": "cZNoLSTGb-os",
        "outputId": "64dca10c-bfea-4aaa-ec9f-0fe545cc85af"
      },
      "execution_count": null,
      "outputs": [
        {
          "output_type": "stream",
          "name": "stdout",
          "text": [
            "      Prog Metal         New Wave       Eletrônico      Black metal \n",
            " \"Dream Theater\"    \"Duran Duran\"   \"Depeche Mode\"       \"Batushka\" \n",
            "Metal Industrial \n",
            "     \"Rammstein\" \n"
          ]
        }
      ]
    },
    {
      "cell_type": "code",
      "source": [
        "#somar indice com indice\n",
        "distance_over_time <- c(09.20, 08.25, 07.04, 06.14)\n",
        "images_and_words <- c(11.30, 09.32, 08.20, 08.13)\n",
        "dream_theater <- distance_over_time + images_and_words\n",
        "print(dream_theater)\n",
        "\n",
        "#a função sum é responsável por acumular os valores\n",
        "soma_dt <- sum(distance_over_time, images_and_words)\n",
        "print(soma_dt)"
      ],
      "metadata": {
        "id": "5cygH-uQFU6s",
        "colab": {
          "base_uri": "https://localhost:8080/"
        },
        "outputId": "e5c46746-db9b-4388-b61f-82f55aaebf4c"
      },
      "execution_count": null,
      "outputs": [
        {
          "output_type": "stream",
          "name": "stdout",
          "text": [
            "[1] 20.50 17.57 15.24 14.27\n",
            "[1] 67.58\n"
          ]
        }
      ]
    },
    {
      "cell_type": "code",
      "source": [
        "# Construir a matriz inicial\n",
        "pais <- c(\"Brasil\", \"Índia\", \"Estados Unidos\")\n",
        "indice <- c(\"BRA\", \"IND\", \"USA\")\n",
        "media_estudos <- c(7.8, 6.4, 13.4)\n",
        "ano <- c(2017, 2017, 2017)\n",
        "\n",
        "matriz_paises <- cbind(pais, indice, media_estudos, ano)\n",
        "\n",
        "# Dar nomes às colunas\n",
        "colunas_educacao <- c(\"País\", \"Índice\", \"Ranking\", \"Ano\")\n",
        "colnames(matriz_paises) <- colunas_educacao\n",
        "\n",
        "# Adicionar uma nova linha à matriz\n",
        "add_pais <- c(\"Rússia\", \"RUS\", 12, 2017)\n",
        "matriz_paises_completa <- rbind(matriz_paises, add_pais)\n",
        "\n",
        "print(matriz_paises_completa)\n"
      ],
      "metadata": {
        "colab": {
          "base_uri": "https://localhost:8080/"
        },
        "id": "BWuWNOHSl1Zi",
        "outputId": "6111139f-a9f4-4d28-86e4-1f1c83345d90"
      },
      "execution_count": null,
      "outputs": [
        {
          "output_type": "stream",
          "name": "stdout",
          "text": [
            "         País             Índice Ranking Ano   \n",
            "         \"Brasil\"         \"BRA\"  \"7.8\"   \"2017\"\n",
            "         \"Índia\"          \"IND\"  \"6.4\"   \"2017\"\n",
            "         \"Estados Unidos\" \"USA\"  \"13.4\"  \"2017\"\n",
            "add_pais \"Rússia\"         \"RUS\"  \"12\"    \"2017\"\n"
          ]
        }
      ]
    }
  ]
}